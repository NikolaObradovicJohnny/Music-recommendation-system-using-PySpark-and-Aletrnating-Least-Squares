{
  "nbformat": 4,
  "nbformat_minor": 0,
  "metadata": {
    "colab": {
      "name": "Music recommendation system using PySpark and Aletrnating Least Squares for Collaborative Filtering.ipynb",
      "provenance": [],
      "collapsed_sections": [],
      "mount_file_id": "1g4BWz5SGcYyhJHFR3ZHoyjrmmTKjlIbu",
      "authorship_tag": "ABX9TyMqnzycGbaxsfsaeIWr072V"
    },
    "kernelspec": {
      "name": "python3",
      "display_name": "Python 3"
    },
    "language_info": {
      "name": "python"
    }
  },
  "cells": [
    {
      "cell_type": "code",
      "execution_count": null,
      "metadata": {
        "colab": {
          "base_uri": "https://localhost:8080/"
        },
        "id": "XE5p85yo1_xB",
        "outputId": "48a99cbf-3366-4ef6-cbca-be6defc48433"
      },
      "outputs": [
        {
          "output_type": "stream",
          "name": "stdout",
          "text": [
            "Collecting pyspark\n",
            "  Downloading pyspark-3.2.1.tar.gz (281.4 MB)\n",
            "\u001b[K     |████████████████████████████████| 281.4 MB 31 kB/s \n",
            "\u001b[?25hCollecting py4j\n",
            "  Downloading py4j-0.10.9.3-py2.py3-none-any.whl (198 kB)\n",
            "\u001b[K     |████████████████████████████████| 198 kB 39.9 MB/s \n",
            "\u001b[?25hBuilding wheels for collected packages: pyspark\n",
            "  Building wheel for pyspark (setup.py) ... \u001b[?25l\u001b[?25hdone\n",
            "  Created wheel for pyspark: filename=pyspark-3.2.1-py2.py3-none-any.whl size=281853642 sha256=a9b49a1051a1689624ccc26e8e9309852a98184ee4137ace45bf9fa1fdebe9f9\n",
            "  Stored in directory: /root/.cache/pip/wheels/9f/f5/07/7cd8017084dce4e93e84e92efd1e1d5334db05f2e83bcef74f\n",
            "Successfully built pyspark\n",
            "Installing collected packages: py4j, pyspark\n",
            "Successfully installed py4j-0.10.9.3 pyspark-3.2.1\n"
          ]
        }
      ],
      "source": [
        "# Install spark\n",
        "!pip install pyspark py4j"
      ]
    },
    {
      "cell_type": "code",
      "source": [
        "from pyspark.sql import SparkSession, Row\n",
        "from pyspark.ml.evaluation import RegressionEvaluator\n",
        "from pyspark.ml.recommendation import ALS\n",
        "from pyspark.ml.tuning import TrainValidationSplit, ParamGridBuilder, CrossValidator"
      ],
      "metadata": {
        "id": "2zydNlbo3LSr"
      },
      "execution_count": null,
      "outputs": []
    },
    {
      "cell_type": "code",
      "source": [
        "spark = SparkSession.builder.appName(\"song_recommender\").getOrCreate()"
      ],
      "metadata": {
        "id": "an7D2tW23KGe"
      },
      "execution_count": null,
      "outputs": []
    },
    {
      "cell_type": "code",
      "source": [
        "listening_csv_path = \"/content/drive/MyDrive/DS-Master studije/Rukovanje velikim podacima (Big Data)/UserTasteProfilePySpark.csv\"\n",
        "df = spark.read.csv(listening_csv_path, inferSchema=True,header=True)"
      ],
      "metadata": {
        "id": "gMq0Tdgu-5rA"
      },
      "execution_count": null,
      "outputs": []
    },
    {
      "cell_type": "code",
      "source": [
        "df.show()"
      ],
      "metadata": {
        "colab": {
          "base_uri": "https://localhost:8080/"
        },
        "id": "VSzZNYyrrw16",
        "outputId": "080ff8ee-ca11-42ed-99ac-a843fed26fbe"
      },
      "execution_count": null,
      "outputs": [
        {
          "output_type": "stream",
          "name": "stdout",
          "text": [
            "+------+------+-----+\n",
            "|userId|songId|plays|\n",
            "+------+------+-----+\n",
            "|     1|     1|  1.0|\n",
            "|     1|     2|  2.0|\n",
            "|     1|     3|  1.0|\n",
            "|     1|     4|  1.0|\n",
            "|     1|     5|  1.0|\n",
            "|     1|     6|  5.0|\n",
            "|     1|     7|  1.0|\n",
            "|     1|     8|  1.0|\n",
            "|     1|     9|  1.0|\n",
            "|     1|    10|  1.0|\n",
            "|     1|    11|  1.0|\n",
            "|     1|    12|  5.0|\n",
            "|     1|    13|  1.0|\n",
            "|     1|    14|  1.0|\n",
            "|     1|    15|  5.0|\n",
            "|     1|    16|  1.0|\n",
            "|     1|    17|  6.0|\n",
            "|     1|    18|  1.0|\n",
            "|     1|    19|  1.0|\n",
            "|     1|    20|  1.0|\n",
            "+------+------+-----+\n",
            "only showing top 20 rows\n",
            "\n"
          ]
        }
      ]
    },
    {
      "cell_type": "code",
      "source": [
        ""
      ],
      "metadata": {
        "id": "Y5OW5mCLlkSX"
      },
      "execution_count": null,
      "outputs": []
    },
    {
      "cell_type": "code",
      "source": [
        "df.describe().show()"
      ],
      "metadata": {
        "colab": {
          "base_uri": "https://localhost:8080/"
        },
        "id": "8B6z8Cl9bs9l",
        "outputId": "2e06b58b-00dc-48a4-8a1a-4a7c10d2cb0c"
      },
      "execution_count": null,
      "outputs": [
        {
          "output_type": "stream",
          "name": "stdout",
          "text": [
            "+-------+------------------+------------------+------------------+\n",
            "|summary|            userId|            songId|             plays|\n",
            "+-------+------------------+------------------+------------------+\n",
            "|  count|            124566|            124566|            124566|\n",
            "|   mean| 2390.164515196763|3429.9480596631506| 3.039970778543102|\n",
            "| stddev|1395.8809554795125|2738.4497552680705|6.8210680790211065|\n",
            "|    min|                 1|                 1|               1.0|\n",
            "|    max|              4752|              9976|             796.0|\n",
            "+-------+------------------+------------------+------------------+\n",
            "\n"
          ]
        }
      ]
    },
    {
      "cell_type": "code",
      "source": [
        "# Create test and train set\n",
        "(training, test) = df.randomSplit([0.8,0.2])"
      ],
      "metadata": {
        "id": "1PoSYPlQ7Ll4"
      },
      "execution_count": null,
      "outputs": []
    },
    {
      "cell_type": "code",
      "source": [
        "training.count()"
      ],
      "metadata": {
        "colab": {
          "base_uri": "https://localhost:8080/"
        },
        "id": "24FqVh5A-Cst",
        "outputId": "5e8addf3-f148-4b66-a7b5-063c618f2935"
      },
      "execution_count": null,
      "outputs": [
        {
          "output_type": "execute_result",
          "data": {
            "text/plain": [
              "99522"
            ]
          },
          "metadata": {},
          "execution_count": 8
        }
      ]
    },
    {
      "cell_type": "code",
      "source": [
        "test.count()"
      ],
      "metadata": {
        "colab": {
          "base_uri": "https://localhost:8080/"
        },
        "id": "I7qiQEjs-Eu1",
        "outputId": "84960057-c79c-49f1-ff4e-ea90f7297668"
      },
      "execution_count": null,
      "outputs": [
        {
          "output_type": "execute_result",
          "data": {
            "text/plain": [
              "25044"
            ]
          },
          "metadata": {},
          "execution_count": 9
        }
      ]
    },
    {
      "cell_type": "code",
      "source": [
        "# Create ALS model\n",
        "als = ALS(userCol=\"userId\", itemCol=\"songId\", ratingCol=\"plays\", coldStartStrategy=\"drop\", nonnegative=True)"
      ],
      "metadata": {
        "id": "4JTcLR0bBYyJ"
      },
      "execution_count": null,
      "outputs": []
    },
    {
      "cell_type": "code",
      "source": [
        "# Tune model using ParamGridBuilder\n",
        "param_grid = ParamGridBuilder()\\\n",
        "  .addGrid(als.rank, [9,15])\\\n",
        "  .addGrid(als.maxIter, [3,4])\\\n",
        "  .addGrid(als.regParam, [.01, .09])\\\n",
        "  .build()"
      ],
      "metadata": {
        "id": "DYZdp_WkUUXv"
      },
      "execution_count": null,
      "outputs": []
    },
    {
      "cell_type": "code",
      "source": [
        "# Define evaluator as RSME\n",
        "evaluator = RegressionEvaluator(metricName=\"rmse\", labelCol=\"plays\", predictionCol=\"prediction\")"
      ],
      "metadata": {
        "id": "OGeqdsfpVXkC"
      },
      "execution_count": null,
      "outputs": []
    },
    {
      "cell_type": "code",
      "source": [
        "# Build cross validation using CrossValidator\n",
        "cv = CrossValidator(estimator=als, estimatorParamMaps=param_grid, evaluator=evaluator, numFolds = 5)"
      ],
      "metadata": {
        "id": "-tC7A_vJV9Uq"
      },
      "execution_count": null,
      "outputs": []
    },
    {
      "cell_type": "code",
      "source": [
        "# Fit ALS model to training data\n",
        "model = cv.fit(training)"
      ],
      "metadata": {
        "id": "XbjgjhKfdHij"
      },
      "execution_count": null,
      "outputs": []
    },
    {
      "cell_type": "code",
      "source": [
        "# Extract best model from the tuning exercise using ParamGridBuilder\n",
        "best_model = model.bestModel"
      ],
      "metadata": {
        "id": "ZMOZfah4dQ2_"
      },
      "execution_count": null,
      "outputs": []
    },
    {
      "cell_type": "code",
      "source": [
        "# Generate predictions and evaluate using RMSE\n",
        "predictions = best_model.transform(test)\n",
        "rmse = evaluator.evaluate(predictions)"
      ],
      "metadata": {
        "id": "DHVkHtQliX0U"
      },
      "execution_count": null,
      "outputs": []
    },
    {
      "cell_type": "code",
      "source": [
        "# Print evaluation metrics and model parameters\n",
        "print(\"RMSE = \" + str(rmse))\n",
        "print(\"**Best Model**\")\n",
        "print(\"\\tRank:\", best_model.rank)\n",
        "print(\"\\tMaxIter:\", best_model._java_obj.parent().getMaxIter())\n",
        "print(\"\\tRegParam:\", best_model._java_obj.parent().getRegParam())"
      ],
      "metadata": {
        "colab": {
          "base_uri": "https://localhost:8080/"
        },
        "id": "IfYRRX6Ri-ev",
        "outputId": "36cd39d1-5ea4-4d65-e26c-0026f7fb1e43"
      },
      "execution_count": null,
      "outputs": [
        {
          "output_type": "stream",
          "name": "stdout",
          "text": [
            "RMSE = 8.824319434569002\n",
            "**Best Model**\n",
            "\tRank: 15\n",
            "\tMaxIter: 4\n",
            "\tRegParam: 0.09\n"
          ]
        }
      ]
    },
    {
      "cell_type": "code",
      "source": [
        "predictions.sort(\"userId\",\"plays\").show()"
      ],
      "metadata": {
        "colab": {
          "base_uri": "https://localhost:8080/"
        },
        "id": "p7-nzpyljhsI",
        "outputId": "57f2f926-e808-4371-b238-5f0f4a78ef67"
      },
      "execution_count": null,
      "outputs": [
        {
          "output_type": "stream",
          "name": "stdout",
          "text": [
            "+------+------+-----+----------+\n",
            "|userId|songId|plays|prediction|\n",
            "+------+------+-----+----------+\n",
            "|     1|    39|  1.0|0.78157336|\n",
            "|     1|     3|  1.0|0.78499407|\n",
            "|     1|     7|  1.0| 14.229012|\n",
            "|     1|    34|  1.0|   1.99155|\n",
            "|     1|    45|  1.0|  6.071881|\n",
            "|     1|    24|  1.0| 2.1305244|\n",
            "|     1|    19|  1.0| 0.6143705|\n",
            "|     1|    32|  1.0| 3.8728986|\n",
            "|     1|    36|  1.0|0.48036748|\n",
            "|     1|    23|  1.0| 1.9935567|\n",
            "|     1|     2|  2.0|  5.844646|\n",
            "|     1|    15|  5.0|  2.061989|\n",
            "|     3|    49|  1.0| 0.6763756|\n",
            "|     5|    62|  1.0|0.75203264|\n",
            "|     5|    69|  1.0| 2.9096985|\n",
            "|     5|    71|  1.0| 5.9639063|\n",
            "|     5|    70|  9.0|  2.833328|\n",
            "|     6|    79|  4.0| 2.9303856|\n",
            "|     6|    78|  6.0| 3.3957558|\n",
            "|     6|    86|  8.0| 7.8709383|\n",
            "+------+------+-----+----------+\n",
            "only showing top 20 rows\n",
            "\n"
          ]
        }
      ]
    },
    {
      "cell_type": "code",
      "source": [
        "# Generate 10 Recommendations for each user\n",
        "user_recommendations = best_model.recommendForAllUsers(10)"
      ],
      "metadata": {
        "colab": {
          "base_uri": "https://localhost:8080/"
        },
        "id": "lvlazsjgj61v",
        "outputId": "9c4b310b-c363-4b6a-e1cd-e0ab77d85aca"
      },
      "execution_count": null,
      "outputs": [
        {
          "output_type": "stream",
          "name": "stderr",
          "text": [
            "/usr/local/lib/python3.7/dist-packages/pyspark/sql/context.py:127: FutureWarning: Deprecated in 3.0.0. Use SparkSession.builder.getOrCreate() instead.\n",
            "  FutureWarning\n"
          ]
        }
      ]
    },
    {
      "cell_type": "code",
      "source": [
        ""
      ],
      "metadata": {
        "id": "wbMrYR59katV"
      },
      "execution_count": null,
      "outputs": []
    },
    {
      "cell_type": "code",
      "source": [
        "# Show 20 users with the list of their recommendations\n",
        "user_recommendations.select(\"userId\",\"recommendations.songId\").show(20, False)"
      ],
      "metadata": {
        "colab": {
          "base_uri": "https://localhost:8080/"
        },
        "id": "hICqtEDslfF5",
        "outputId": "0711efc7-8415-4dd8-8249-28634dffab1e"
      },
      "execution_count": null,
      "outputs": [
        {
          "output_type": "stream",
          "name": "stdout",
          "text": [
            "+------+------------------------------------------------------------+\n",
            "|userId|songId                                                      |\n",
            "+------+------------------------------------------------------------+\n",
            "|1     |[2669, 4680, 9001, 2680, 8844, 4139, 1620, 5402, 2989, 88]  |\n",
            "|3     |[8844, 2669, 7791, 8617, 4680, 2509, 2570, 9001, 8606, 2413]|\n",
            "|5     |[2669, 4680, 2680, 9001, 1620, 8844, 7217, 2989, 5402, 6966]|\n",
            "|6     |[2680, 8617, 7791, 4638, 2669, 8844, 5109, 2509, 4026, 9488]|\n",
            "|9     |[8844, 2509, 8617, 8606, 4638, 5369, 8145, 9686, 5155, 7791]|\n",
            "|12    |[8844, 2570, 4139, 6043, 9001, 6047, 7791, 8617, 2680, 9488]|\n",
            "|13    |[1355, 2413, 6990, 5745, 2669, 4680, 8655, 3999, 7054, 1562]|\n",
            "|15    |[5624, 7950, 8145, 2669, 479, 7791, 6047, 2509, 2710, 6961] |\n",
            "|16    |[4680, 2669, 2570, 8844, 2680, 6043, 9001, 7217, 6966, 1620]|\n",
            "|17    |[2669, 7791, 2570, 4680, 6043, 2680, 8606, 8381, 8844, 1710]|\n",
            "|19    |[8844, 8617, 2669, 4680, 2680, 3866, 6047, 2509, 2570, 2989]|\n",
            "|20    |[8844, 7791, 3866, 8617, 2680, 2669, 6047, 8145, 8655, 9686]|\n",
            "|22    |[8844, 2509, 5350, 8655, 8606, 4190, 8145, 5369, 4638, 9686]|\n",
            "|26    |[4680, 8655, 2669, 8844, 2680, 2989, 1620, 8617, 8181, 2]   |\n",
            "|27    |[8844, 8655, 7791, 8617, 7470, 2941, 2570, 6432, 6047, 1758]|\n",
            "|28    |[7791, 8844, 2669, 8655, 8617, 2680, 3866, 2570, 6047, 4026]|\n",
            "|31    |[8844, 2413, 6047, 8655, 2669, 1355, 5745, 9001, 2680, 4139]|\n",
            "|35    |[8844, 2509, 8606, 4139, 9001, 5369, 3866, 4638, 8145, 9686]|\n",
            "|37    |[8844, 4680, 2669, 8617, 2680, 1620, 5402, 9001, 8606, 7217]|\n",
            "|40    |[8844, 3866, 8655, 2669, 4680, 8606, 8145, 2680, 5369, 2509]|\n",
            "+------+------------------------------------------------------------+\n",
            "only showing top 20 rows\n",
            "\n"
          ]
        }
      ]
    },
    {
      "cell_type": "code",
      "source": [
        "songs_csv_path = \"/song_data.csv\"\n",
        "songs_df = spark.read.csv(songs_csv_path, inferSchema=True,header=True)"
      ],
      "metadata": {
        "id": "8WIYznS5lkB5"
      },
      "execution_count": null,
      "outputs": []
    },
    {
      "cell_type": "code",
      "source": [
        "songs_df.show()"
      ],
      "metadata": {
        "colab": {
          "base_uri": "https://localhost:8080/"
        },
        "id": "MqcKx9Djm4es",
        "outputId": "9b863337-70fe-4467-f0a8-cec40cf4028f"
      },
      "execution_count": null,
      "outputs": [
        {
          "output_type": "stream",
          "name": "stdout",
          "text": [
            "+------------------+--------------------+--------------------+--------------------+----+----+----+----+\n",
            "|           song_id|               title|          album_name|         artist_name|year| _c5| _c6| _c7|\n",
            "+------------------+--------------------+--------------------+--------------------+----+----+----+----+\n",
            "|SOQMMHC12AB0180CB8|        Silent Night|Monster Ballads X...|    Faster Pussy cat|2003|null|null|null|\n",
            "|SOVFVAK12A8C1350D9|         Tanssi vaan|         Karkuteillä|    Karkkiautomaatti|1995|null|null|null|\n",
            "|SOGTUKN12AB017F4F1|   No One Could Ever|              Butter|      Hudson Mohawke|2006|null|null|null|\n",
            "|SOBNYVR12A8C13558C|       Si Vos Querés|             De Culo|         Yerba Brava|2003|null|null|null|\n",
            "|SOHSBXH12A8C13B0DF|    Tangle Of Aspens|Rene Ablaze Prese...|          Der Mystic|   0|null|null|null|\n",
            "|SOZVAPQ12A8C13B63C|\"Symphony No. 1 G...|Berwald: Symphoni...|    David Montgomery|   0|null|null|null|\n",
            "|SOQVRHI12A6D4FB2D7|    We Have Got Love|Strictly The Best...|  Sasha / Turbulence|   0|null|null|null|\n",
            "|SOEYRFT12AB018936C|   2 Da Beat Ch'yall|             Da Bomb|          Kris Kross|1993|null|null|null|\n",
            "|SOPMIYT12A6D4F851E|             Goodbye|           Danny Boy|        Joseph Locke|   0|null|null|null|\n",
            "|SOJCFMH12A8C13B0C2|Mama_ mama can't ...|March to cadence ...|The Sun Harbor's ...|   0|null|null|null|\n",
            "|SOYGNWH12AB018191E|       L'antarctique|Des cobras des ta...|    3 Gars Su'l Sofa|2007|null|null|null|\n",
            "|SOLJTLX12AB01890ED|  El hijo del pueblo|32 Grandes Éxitos...|       Jorge Negrete|1997|null|null|null|\n",
            "|SOQQESG12A58A7AA28|Cold Beer feat. P...|International Har...|        Danny Diablo|   0|null|null|null|\n",
            "|SOMPVQB12A8C1379BB|              Pilots|           The Loyal|           Tiger Lou|2005|null|null|null|\n",
            "|SOGPCJI12A8C13CCA0|              N Gana|Afropea 3 - Telli...|     Waldemar Bastos|   0|null|null|null|\n",
            "|SOSDCFG12AB0184647|                   6|          Lena 20 År|     Lena Philipsson|1998|null|null|null|\n",
            "|SOBARPM12A8C133DFF|(Looking For) The...|          Cover Girl|        Shawn Colvin|1994|null|null|null|\n",
            "|SOKOVRQ12A8C142811|   Ethos of Coercion|Descend Into Depr...|         Dying Fetus|2009|null|null|null|\n",
            "|SOIMMJJ12AF72AD643|         Rock-N-Rule|I'm Only A Man (B...|               Emery|2007|null|null|null|\n",
            "|SOVMBTP12A8C13A8F6|       La bola extra|       La bola extra|        Los Ronaldos|   0|null|null|null|\n",
            "+------------------+--------------------+--------------------+--------------------+----+----+----+----+\n",
            "only showing top 20 rows\n",
            "\n"
          ]
        }
      ]
    },
    {
      "cell_type": "code",
      "source": [
        "songs_df.count()"
      ],
      "metadata": {
        "colab": {
          "base_uri": "https://localhost:8080/"
        },
        "id": "BLueeFXZxMwu",
        "outputId": "0a83ec28-c8e4-484a-a366-4011242a63c6"
      },
      "execution_count": null,
      "outputs": [
        {
          "output_type": "execute_result",
          "data": {
            "text/plain": [
              "1000000"
            ]
          },
          "metadata": {},
          "execution_count": 23
        }
      ]
    },
    {
      "cell_type": "code",
      "source": [
        "songs_collection = songs_df.collect()"
      ],
      "metadata": {
        "id": "sHaTlSfixWio"
      },
      "execution_count": null,
      "outputs": []
    },
    {
      "cell_type": "code",
      "source": [
        "for song_id in [10,150,440,321,4050,3444,1233,9382]:\n",
        "  song = songs_collection[song_id]\n",
        "  print(\"{0} - {1}\".format(song.artist_name, song.title))"
      ],
      "metadata": {
        "id": "e_COl6RGyJ6A",
        "colab": {
          "base_uri": "https://localhost:8080/"
        },
        "outputId": "36372836-1247-447d-e574-0ad89ee27598"
      },
      "execution_count": null,
      "outputs": [
        {
          "output_type": "stream",
          "name": "stdout",
          "text": [
            "3 Gars Su'l Sofa - L'antarctique\n",
            "Debbie Davies - You Don't Know What You're Doing\n",
            "Good Riddance - Yesterday's Headlines\n",
            "Sir Neville Marriner/Academy of St Martin-in-the-Fields - Serenade No. 13 in G_ 'Eine kleine Nachtmusik' K525 (1997 Digital Remaster): III.  Menuetto (Allegretto)\n",
            "Head Hits Concrete - No Longer Among Us\n",
            "Bluvertigo - Versozero\n",
            "Céline Dion - A cause\n",
            "Natalie Cole - Your Lonely Heart (Digitally Remastered 02)\n"
          ]
        }
      ]
    },
    {
      "cell_type": "code",
      "source": [
        "# Show list of 20 song recommendations for specific user \n",
        "recommendation_for_specific_user = user_recommendations.select(\"userId\",\"recommendations.songId\").where(\"userId = 3500\")\n",
        "recommendation_for_specific_user.show(20, False)"
      ],
      "metadata": {
        "id": "vqHQUMDazOdu",
        "colab": {
          "base_uri": "https://localhost:8080/"
        },
        "outputId": "5fecbfae-c666-4f1a-ab39-442a373ec585"
      },
      "execution_count": null,
      "outputs": [
        {
          "output_type": "stream",
          "name": "stdout",
          "text": [
            "+------+-----------------------------------------------------------+\n",
            "|userId|songId                                                     |\n",
            "+------+-----------------------------------------------------------+\n",
            "|3500  |[6047, 8844, 3166, 7061, 8145, 2509, 5155, 307, 4638, 8606]|\n",
            "+------+-----------------------------------------------------------+\n",
            "\n"
          ]
        }
      ]
    },
    {
      "cell_type": "code",
      "source": [
        "songs_for_specific_user = recommendation_for_specific_user.collect()[0][1]\n",
        "songs_for_specific_user"
      ],
      "metadata": {
        "colab": {
          "base_uri": "https://localhost:8080/"
        },
        "id": "8OnbVJ8BfH0M",
        "outputId": "2cd3b0e1-ba73-43bd-ecb5-69c815c66aea"
      },
      "execution_count": null,
      "outputs": [
        {
          "output_type": "execute_result",
          "data": {
            "text/plain": [
              "[6047, 8844, 3166, 7061, 8145, 2509, 5155, 307, 4638, 8606]"
            ]
          },
          "metadata": {},
          "execution_count": 55
        }
      ]
    },
    {
      "cell_type": "code",
      "source": [
        "for song_id in songs_for_specific_user:\n",
        "  song = songs_collection[song_id]\n",
        "  print(\"{0} - {1}\".format(song.artist_name, song.title))"
      ],
      "metadata": {
        "colab": {
          "base_uri": "https://localhost:8080/"
        },
        "id": "ZAWU-RLxfqu6",
        "outputId": "ca8d1f9c-4aa0-431c-b561-8e9ea16bd0ad"
      },
      "execution_count": null,
      "outputs": [
        {
          "output_type": "stream",
          "name": "stdout",
          "text": [
            "Joe Stump - Night Of The Living Shred\n",
            "Bow Wave - MESTO V MLZE\n",
            "Noitalinna Huraa! - Kurja kissa\n",
            "Soilwork - Breeding Thorns\n",
            "Mikey Dread - Stem Cells\n",
            "Johnny Foreigner - Criminals\n",
            "Tim Carroll - Keep Me Down\n",
            "Virus - Carheart\n",
            "Hangedup - Eksplozije\n",
            "Mike Farris - I'm Gonna Get There\n"
          ]
        }
      ]
    },
    {
      "cell_type": "code",
      "source": [
        ""
      ],
      "metadata": {
        "id": "kSwi6INUhBZv"
      },
      "execution_count": null,
      "outputs": []
    }
  ]
}